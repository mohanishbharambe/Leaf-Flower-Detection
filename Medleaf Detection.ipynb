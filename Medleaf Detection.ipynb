{
  "nbformat": 4,
  "nbformat_minor": 0,
  "metadata": {
    "colab": {
      "name": "global.ipynb",
      "provenance": [],
      "collapsed_sections": []
    },
    "kernelspec": {
      "name": "python3",
      "display_name": "Python 3"
    }
  },
  "cells": [
    {
      "cell_type": "code",
      "metadata": {
        "id": "WQctI_HNhFo5",
        "colab_type": "code",
        "colab": {
          "base_uri": "https://localhost:8080/",
          "height": 51
        },
        "outputId": "0a22eedd-c7ab-4d08-c95d-cac60740825d"
      },
      "source": [
        "pip install -q mahotas"
      ],
      "execution_count": null,
      "outputs": [
        {
          "output_type": "stream",
          "text": [
            "\u001b[?25l\r\u001b[K     |▏                               | 10kB 21.7MB/s eta 0:00:01\r\u001b[K     |▍                               | 20kB 1.8MB/s eta 0:00:01\r\u001b[K     |▋                               | 30kB 2.3MB/s eta 0:00:01\r\u001b[K     |▉                               | 40kB 2.6MB/s eta 0:00:01\r\u001b[K     |█                               | 51kB 2.0MB/s eta 0:00:01\r\u001b[K     |█▎                              | 61kB 2.3MB/s eta 0:00:01\r\u001b[K     |█▌                              | 71kB 2.6MB/s eta 0:00:01\r\u001b[K     |█▊                              | 81kB 2.8MB/s eta 0:00:01\r\u001b[K     |██                              | 92kB 2.9MB/s eta 0:00:01\r\u001b[K     |██▏                             | 102kB 2.8MB/s eta 0:00:01\r\u001b[K     |██▍                             | 112kB 2.8MB/s eta 0:00:01\r\u001b[K     |██▋                             | 122kB 2.8MB/s eta 0:00:01\r\u001b[K     |██▉                             | 133kB 2.8MB/s eta 0:00:01\r\u001b[K     |███                             | 143kB 2.8MB/s eta 0:00:01\r\u001b[K     |███▏                            | 153kB 2.8MB/s eta 0:00:01\r\u001b[K     |███▍                            | 163kB 2.8MB/s eta 0:00:01\r\u001b[K     |███▋                            | 174kB 2.8MB/s eta 0:00:01\r\u001b[K     |███▉                            | 184kB 2.8MB/s eta 0:00:01\r\u001b[K     |████                            | 194kB 2.8MB/s eta 0:00:01\r\u001b[K     |████▎                           | 204kB 2.8MB/s eta 0:00:01\r\u001b[K     |████▌                           | 215kB 2.8MB/s eta 0:00:01\r\u001b[K     |████▊                           | 225kB 2.8MB/s eta 0:00:01\r\u001b[K     |█████                           | 235kB 2.8MB/s eta 0:00:01\r\u001b[K     |█████▏                          | 245kB 2.8MB/s eta 0:00:01\r\u001b[K     |█████▍                          | 256kB 2.8MB/s eta 0:00:01\r\u001b[K     |█████▋                          | 266kB 2.8MB/s eta 0:00:01\r\u001b[K     |█████▊                          | 276kB 2.8MB/s eta 0:00:01\r\u001b[K     |██████                          | 286kB 2.8MB/s eta 0:00:01\r\u001b[K     |██████▏                         | 296kB 2.8MB/s eta 0:00:01\r\u001b[K     |██████▍                         | 307kB 2.8MB/s eta 0:00:01\r\u001b[K     |██████▋                         | 317kB 2.8MB/s eta 0:00:01\r\u001b[K     |██████▉                         | 327kB 2.8MB/s eta 0:00:01\r\u001b[K     |███████                         | 337kB 2.8MB/s eta 0:00:01\r\u001b[K     |███████▎                        | 348kB 2.8MB/s eta 0:00:01\r\u001b[K     |███████▌                        | 358kB 2.8MB/s eta 0:00:01\r\u001b[K     |███████▊                        | 368kB 2.8MB/s eta 0:00:01\r\u001b[K     |████████                        | 378kB 2.8MB/s eta 0:00:01\r\u001b[K     |████████▏                       | 389kB 2.8MB/s eta 0:00:01\r\u001b[K     |████████▍                       | 399kB 2.8MB/s eta 0:00:01\r\u001b[K     |████████▋                       | 409kB 2.8MB/s eta 0:00:01\r\u001b[K     |████████▊                       | 419kB 2.8MB/s eta 0:00:01\r\u001b[K     |█████████                       | 430kB 2.8MB/s eta 0:00:01\r\u001b[K     |█████████▏                      | 440kB 2.8MB/s eta 0:00:01\r\u001b[K     |█████████▍                      | 450kB 2.8MB/s eta 0:00:01\r\u001b[K     |█████████▋                      | 460kB 2.8MB/s eta 0:00:01\r\u001b[K     |█████████▉                      | 471kB 2.8MB/s eta 0:00:01\r\u001b[K     |██████████                      | 481kB 2.8MB/s eta 0:00:01\r\u001b[K     |██████████▎                     | 491kB 2.8MB/s eta 0:00:01\r\u001b[K     |██████████▌                     | 501kB 2.8MB/s eta 0:00:01\r\u001b[K     |██████████▊                     | 512kB 2.8MB/s eta 0:00:01\r\u001b[K     |███████████                     | 522kB 2.8MB/s eta 0:00:01\r\u001b[K     |███████████▏                    | 532kB 2.8MB/s eta 0:00:01\r\u001b[K     |███████████▍                    | 542kB 2.8MB/s eta 0:00:01\r\u001b[K     |███████████▌                    | 552kB 2.8MB/s eta 0:00:01\r\u001b[K     |███████████▊                    | 563kB 2.8MB/s eta 0:00:01\r\u001b[K     |████████████                    | 573kB 2.8MB/s eta 0:00:01\r\u001b[K     |████████████▏                   | 583kB 2.8MB/s eta 0:00:01\r\u001b[K     |████████████▍                   | 593kB 2.8MB/s eta 0:00:01\r\u001b[K     |████████████▋                   | 604kB 2.8MB/s eta 0:00:01\r\u001b[K     |████████████▉                   | 614kB 2.8MB/s eta 0:00:01\r\u001b[K     |█████████████                   | 624kB 2.8MB/s eta 0:00:01\r\u001b[K     |█████████████▎                  | 634kB 2.8MB/s eta 0:00:01\r\u001b[K     |█████████████▌                  | 645kB 2.8MB/s eta 0:00:01\r\u001b[K     |█████████████▊                  | 655kB 2.8MB/s eta 0:00:01\r\u001b[K     |██████████████                  | 665kB 2.8MB/s eta 0:00:01\r\u001b[K     |██████████████▏                 | 675kB 2.8MB/s eta 0:00:01\r\u001b[K     |██████████████▍                 | 686kB 2.8MB/s eta 0:00:01\r\u001b[K     |██████████████▌                 | 696kB 2.8MB/s eta 0:00:01\r\u001b[K     |██████████████▊                 | 706kB 2.8MB/s eta 0:00:01\r\u001b[K     |███████████████                 | 716kB 2.8MB/s eta 0:00:01\r\u001b[K     |███████████████▏                | 727kB 2.8MB/s eta 0:00:01\r\u001b[K     |███████████████▍                | 737kB 2.8MB/s eta 0:00:01\r\u001b[K     |███████████████▋                | 747kB 2.8MB/s eta 0:00:01\r\u001b[K     |███████████████▉                | 757kB 2.8MB/s eta 0:00:01\r\u001b[K     |████████████████                | 768kB 2.8MB/s eta 0:00:01\r\u001b[K     |████████████████▎               | 778kB 2.8MB/s eta 0:00:01\r\u001b[K     |████████████████▌               | 788kB 2.8MB/s eta 0:00:01\r\u001b[K     |████████████████▊               | 798kB 2.8MB/s eta 0:00:01\r\u001b[K     |█████████████████               | 808kB 2.8MB/s eta 0:00:01\r\u001b[K     |█████████████████▏              | 819kB 2.8MB/s eta 0:00:01\r\u001b[K     |█████████████████▎              | 829kB 2.8MB/s eta 0:00:01\r\u001b[K     |█████████████████▌              | 839kB 2.8MB/s eta 0:00:01\r\u001b[K     |█████████████████▊              | 849kB 2.8MB/s eta 0:00:01\r\u001b[K     |██████████████████              | 860kB 2.8MB/s eta 0:00:01\r\u001b[K     |██████████████████▏             | 870kB 2.8MB/s eta 0:00:01\r\u001b[K     |██████████████████▍             | 880kB 2.8MB/s eta 0:00:01\r\u001b[K     |██████████████████▋             | 890kB 2.8MB/s eta 0:00:01\r\u001b[K     |██████████████████▉             | 901kB 2.8MB/s eta 0:00:01\r\u001b[K     |███████████████████             | 911kB 2.8MB/s eta 0:00:01\r\u001b[K     |███████████████████▎            | 921kB 2.8MB/s eta 0:00:01\r\u001b[K     |███████████████████▌            | 931kB 2.8MB/s eta 0:00:01\r\u001b[K     |███████████████████▊            | 942kB 2.8MB/s eta 0:00:01\r\u001b[K     |████████████████████            | 952kB 2.8MB/s eta 0:00:01\r\u001b[K     |████████████████████▏           | 962kB 2.8MB/s eta 0:00:01\r\u001b[K     |████████████████████▎           | 972kB 2.8MB/s eta 0:00:01\r\u001b[K     |████████████████████▌           | 983kB 2.8MB/s eta 0:00:01\r\u001b[K     |████████████████████▊           | 993kB 2.8MB/s eta 0:00:01\r\u001b[K     |█████████████████████           | 1.0MB 2.8MB/s eta 0:00:01\r\u001b[K     |█████████████████████▏          | 1.0MB 2.8MB/s eta 0:00:01\r\u001b[K     |█████████████████████▍          | 1.0MB 2.8MB/s eta 0:00:01\r\u001b[K     |█████████████████████▋          | 1.0MB 2.8MB/s eta 0:00:01\r\u001b[K     |█████████████████████▉          | 1.0MB 2.8MB/s eta 0:00:01\r\u001b[K     |██████████████████████          | 1.1MB 2.8MB/s eta 0:00:01\r\u001b[K     |██████████████████████▎         | 1.1MB 2.8MB/s eta 0:00:01\r\u001b[K     |██████████████████████▌         | 1.1MB 2.8MB/s eta 0:00:01\r\u001b[K     |██████████████████████▊         | 1.1MB 2.8MB/s eta 0:00:01\r\u001b[K     |███████████████████████         | 1.1MB 2.8MB/s eta 0:00:01\r\u001b[K     |███████████████████████         | 1.1MB 2.8MB/s eta 0:00:01\r\u001b[K     |███████████████████████▎        | 1.1MB 2.8MB/s eta 0:00:01\r\u001b[K     |███████████████████████▌        | 1.1MB 2.8MB/s eta 0:00:01\r\u001b[K     |███████████████████████▊        | 1.1MB 2.8MB/s eta 0:00:01\r\u001b[K     |████████████████████████        | 1.1MB 2.8MB/s eta 0:00:01\r\u001b[K     |████████████████████████▏       | 1.2MB 2.8MB/s eta 0:00:01\r\u001b[K     |████████████████████████▍       | 1.2MB 2.8MB/s eta 0:00:01\r\u001b[K     |████████████████████████▋       | 1.2MB 2.8MB/s eta 0:00:01\r\u001b[K     |████████████████████████▉       | 1.2MB 2.8MB/s eta 0:00:01\r\u001b[K     |█████████████████████████       | 1.2MB 2.8MB/s eta 0:00:01\r\u001b[K     |█████████████████████████▎      | 1.2MB 2.8MB/s eta 0:00:01\r\u001b[K     |█████████████████████████▌      | 1.2MB 2.8MB/s eta 0:00:01\r\u001b[K     |█████████████████████████▊      | 1.2MB 2.8MB/s eta 0:00:01\r\u001b[K     |█████████████████████████▉      | 1.2MB 2.8MB/s eta 0:00:01\r\u001b[K     |██████████████████████████      | 1.2MB 2.8MB/s eta 0:00:01\r\u001b[K     |██████████████████████████▎     | 1.3MB 2.8MB/s eta 0:00:01\r\u001b[K     |██████████████████████████▌     | 1.3MB 2.8MB/s eta 0:00:01\r\u001b[K     |██████████████████████████▊     | 1.3MB 2.8MB/s eta 0:00:01\r\u001b[K     |███████████████████████████     | 1.3MB 2.8MB/s eta 0:00:01\r\u001b[K     |███████████████████████████▏    | 1.3MB 2.8MB/s eta 0:00:01\r\u001b[K     |███████████████████████████▍    | 1.3MB 2.8MB/s eta 0:00:01\r\u001b[K     |███████████████████████████▋    | 1.3MB 2.8MB/s eta 0:00:01\r\u001b[K     |███████████████████████████▉    | 1.3MB 2.8MB/s eta 0:00:01\r\u001b[K     |████████████████████████████    | 1.3MB 2.8MB/s eta 0:00:01\r\u001b[K     |████████████████████████████▎   | 1.4MB 2.8MB/s eta 0:00:01\r\u001b[K     |████████████████████████████▌   | 1.4MB 2.8MB/s eta 0:00:01\r\u001b[K     |████████████████████████████▊   | 1.4MB 2.8MB/s eta 0:00:01\r\u001b[K     |████████████████████████████▉   | 1.4MB 2.8MB/s eta 0:00:01\r\u001b[K     |█████████████████████████████   | 1.4MB 2.8MB/s eta 0:00:01\r\u001b[K     |█████████████████████████████▎  | 1.4MB 2.8MB/s eta 0:00:01\r\u001b[K     |█████████████████████████████▌  | 1.4MB 2.8MB/s eta 0:00:01\r\u001b[K     |█████████████████████████████▊  | 1.4MB 2.8MB/s eta 0:00:01\r\u001b[K     |██████████████████████████████  | 1.4MB 2.8MB/s eta 0:00:01\r\u001b[K     |██████████████████████████████▏ | 1.4MB 2.8MB/s eta 0:00:01\r\u001b[K     |██████████████████████████████▍ | 1.5MB 2.8MB/s eta 0:00:01\r\u001b[K     |██████████████████████████████▋ | 1.5MB 2.8MB/s eta 0:00:01\r\u001b[K     |██████████████████████████████▉ | 1.5MB 2.8MB/s eta 0:00:01\r\u001b[K     |███████████████████████████████ | 1.5MB 2.8MB/s eta 0:00:01\r\u001b[K     |███████████████████████████████▎| 1.5MB 2.8MB/s eta 0:00:01\r\u001b[K     |███████████████████████████████▌| 1.5MB 2.8MB/s eta 0:00:01\r\u001b[K     |███████████████████████████████▋| 1.5MB 2.8MB/s eta 0:00:01\r\u001b[K     |███████████████████████████████▉| 1.5MB 2.8MB/s eta 0:00:01\r\u001b[K     |████████████████████████████████| 1.5MB 2.8MB/s \n",
            "\u001b[?25h  Building wheel for mahotas (setup.py) ... \u001b[?25l\u001b[?25hdone\n"
          ],
          "name": "stdout"
        }
      ]
    },
    {
      "cell_type": "code",
      "metadata": {
        "id": "fT5LbdttLlZV",
        "colab_type": "code",
        "colab": {
          "base_uri": "https://localhost:8080/",
          "height": 238
        },
        "outputId": "837d14de-9569-467b-fd36-1f90c4754989"
      },
      "source": [
        "!pip install flask==0.12.2"
      ],
      "execution_count": null,
      "outputs": [
        {
          "output_type": "stream",
          "text": [
            "Collecting flask==0.12.2\n",
            "\u001b[?25l  Downloading https://files.pythonhosted.org/packages/77/32/e3597cb19ffffe724ad4bf0beca4153419918e7fa4ba6a34b04ee4da3371/Flask-0.12.2-py2.py3-none-any.whl (83kB)\n",
            "\r\u001b[K     |████                            | 10kB 16.3MB/s eta 0:00:01\r\u001b[K     |████████                        | 20kB 1.5MB/s eta 0:00:01\r\u001b[K     |███████████▉                    | 30kB 2.0MB/s eta 0:00:01\r\u001b[K     |███████████████▉                | 40kB 1.6MB/s eta 0:00:01\r\u001b[K     |███████████████████▊            | 51kB 1.8MB/s eta 0:00:01\r\u001b[K     |███████████████████████▊        | 61kB 2.1MB/s eta 0:00:01\r\u001b[K     |███████████████████████████▋    | 71kB 2.3MB/s eta 0:00:01\r\u001b[K     |███████████████████████████████▋| 81kB 2.5MB/s eta 0:00:01\r\u001b[K     |████████████████████████████████| 92kB 2.3MB/s \n",
            "\u001b[?25hRequirement already satisfied: click>=2.0 in /usr/local/lib/python3.6/dist-packages (from flask==0.12.2) (7.1.2)\n",
            "Requirement already satisfied: itsdangerous>=0.21 in /usr/local/lib/python3.6/dist-packages (from flask==0.12.2) (1.1.0)\n",
            "Requirement already satisfied: Jinja2>=2.4 in /usr/local/lib/python3.6/dist-packages (from flask==0.12.2) (2.11.2)\n",
            "Requirement already satisfied: Werkzeug>=0.7 in /usr/local/lib/python3.6/dist-packages (from flask==0.12.2) (1.0.1)\n",
            "Requirement already satisfied: MarkupSafe>=0.23 in /usr/local/lib/python3.6/dist-packages (from Jinja2>=2.4->flask==0.12.2) (1.1.1)\n",
            "Installing collected packages: flask\n",
            "  Found existing installation: Flask 1.1.2\n",
            "    Uninstalling Flask-1.1.2:\n",
            "      Successfully uninstalled Flask-1.1.2\n",
            "Successfully installed flask-0.12.2\n"
          ],
          "name": "stdout"
        }
      ]
    },
    {
      "cell_type": "code",
      "metadata": {
        "id": "zyA3vepyLnmN",
        "colab_type": "code",
        "colab": {
          "base_uri": "https://localhost:8080/",
          "height": 272
        },
        "outputId": "0b2471f5-34fe-4cae-f079-7f362bf65a3c"
      },
      "source": [
        "!pip install flask-ngrok"
      ],
      "execution_count": null,
      "outputs": [
        {
          "output_type": "stream",
          "text": [
            "Collecting flask-ngrok\n",
            "  Downloading https://files.pythonhosted.org/packages/af/6c/f54cb686ad1129e27d125d182f90f52b32f284e6c8df58c1bae54fa1adbc/flask_ngrok-0.0.25-py3-none-any.whl\n",
            "Requirement already satisfied: Flask>=0.8 in /usr/local/lib/python3.6/dist-packages (from flask-ngrok) (0.12.2)\n",
            "Requirement already satisfied: requests in /usr/local/lib/python3.6/dist-packages (from flask-ngrok) (2.23.0)\n",
            "Requirement already satisfied: Jinja2>=2.4 in /usr/local/lib/python3.6/dist-packages (from Flask>=0.8->flask-ngrok) (2.11.2)\n",
            "Requirement already satisfied: click>=2.0 in /usr/local/lib/python3.6/dist-packages (from Flask>=0.8->flask-ngrok) (7.1.2)\n",
            "Requirement already satisfied: itsdangerous>=0.21 in /usr/local/lib/python3.6/dist-packages (from Flask>=0.8->flask-ngrok) (1.1.0)\n",
            "Requirement already satisfied: Werkzeug>=0.7 in /usr/local/lib/python3.6/dist-packages (from Flask>=0.8->flask-ngrok) (1.0.1)\n",
            "Requirement already satisfied: urllib3!=1.25.0,!=1.25.1,<1.26,>=1.21.1 in /usr/local/lib/python3.6/dist-packages (from requests->flask-ngrok) (1.24.3)\n",
            "Requirement already satisfied: certifi>=2017.4.17 in /usr/local/lib/python3.6/dist-packages (from requests->flask-ngrok) (2020.4.5.1)\n",
            "Requirement already satisfied: chardet<4,>=3.0.2 in /usr/local/lib/python3.6/dist-packages (from requests->flask-ngrok) (3.0.4)\n",
            "Requirement already satisfied: idna<3,>=2.5 in /usr/local/lib/python3.6/dist-packages (from requests->flask-ngrok) (2.9)\n",
            "Requirement already satisfied: MarkupSafe>=0.23 in /usr/local/lib/python3.6/dist-packages (from Jinja2>=2.4->Flask>=0.8->flask-ngrok) (1.1.1)\n",
            "Installing collected packages: flask-ngrok\n",
            "Successfully installed flask-ngrok-0.0.25\n"
          ],
          "name": "stdout"
        }
      ]
    },
    {
      "cell_type": "code",
      "metadata": {
        "id": "zKd9at6y47Gp",
        "colab_type": "code",
        "colab": {
          "base_uri": "https://localhost:8080/",
          "height": 34
        },
        "outputId": "123ca091-e90f-44fa-d0d1-b9b4b0a90ac2"
      },
      "source": [
        "pip install joblib"
      ],
      "execution_count": null,
      "outputs": [
        {
          "output_type": "stream",
          "text": [
            "Requirement already satisfied: joblib in /usr/local/lib/python3.6/dist-packages (0.15.1)\n"
          ],
          "name": "stdout"
        }
      ]
    },
    {
      "cell_type": "code",
      "metadata": {
        "id": "I-fuIGKEeMJ7",
        "colab_type": "code",
        "colab": {
          "base_uri": "https://localhost:8080/",
          "height": 122
        },
        "outputId": "b6cd3d89-0422-47ed-eaf7-5a4fd2cd8176"
      },
      "source": [
        "from google.colab import drive\n",
        "drive.mount('/content/drive')"
      ],
      "execution_count": null,
      "outputs": [
        {
          "output_type": "stream",
          "text": [
            "Go to this URL in a browser: https://accounts.google.com/o/oauth2/auth?client_id=947318989803-6bn6qk8qdgf4n4g3pfee6491hc0brc4i.apps.googleusercontent.com&redirect_uri=urn%3aietf%3awg%3aoauth%3a2.0%3aoob&response_type=code&scope=email%20https%3a%2f%2fwww.googleapis.com%2fauth%2fdocs.test%20https%3a%2f%2fwww.googleapis.com%2fauth%2fdrive%20https%3a%2f%2fwww.googleapis.com%2fauth%2fdrive.photos.readonly%20https%3a%2f%2fwww.googleapis.com%2fauth%2fpeopleapi.readonly\n",
            "\n",
            "Enter your authorization code:\n",
            "··········\n",
            "Mounted at /content/drive\n"
          ],
          "name": "stdout"
        }
      ]
    },
    {
      "cell_type": "code",
      "metadata": {
        "id": "KUib-ZoFgy0s",
        "colab_type": "code",
        "colab": {}
      },
      "source": [
        "from sklearn.preprocessing import LabelEncoder\n",
        "from sklearn.preprocessing import MinMaxScaler\n",
        "import numpy as np\n",
        "import mahotas\n",
        "import cv2\n",
        "import os\n",
        "import h5py\n",
        "\n",
        "images_per_class = 15\n",
        "fixed_size       = tuple((500, 500))\n",
        "train_path       = \"/content/drive/My Drive/image-classification-python-master/dataset/train\"\n",
        "h5_data          = '/content/drive/My Drive/image-classification-python-master/output/data.h5'\n",
        "h5_labels        = '/content/drive/My Drive/image-classification-python-master/output/labels.h5'\n",
        "bins             = 8"
      ],
      "execution_count": null,
      "outputs": []
    },
    {
      "cell_type": "code",
      "metadata": {
        "id": "6G9rPAjghcU9",
        "colab_type": "code",
        "colab": {}
      },
      "source": [
        "\n",
        "def fd_hu_moments(image):\n",
        "    image = cv2.cvtColor(image, cv2.COLOR_BGR2GRAY)\n",
        "    feature = cv2.HuMoments(cv2.moments(image)).flatten()\n",
        "    return feature"
      ],
      "execution_count": null,
      "outputs": []
    },
    {
      "cell_type": "code",
      "metadata": {
        "id": "dl0IcXsuhjH7",
        "colab_type": "code",
        "colab": {}
      },
      "source": [
        "\n",
        "def fd_haralick(image):\n",
        "    gray = cv2.cvtColor(image, cv2.COLOR_BGR2GRAY)\n",
        "    haralick = mahotas.features.haralick(gray).mean(axis=0)\n",
        "    return haralick"
      ],
      "execution_count": null,
      "outputs": []
    },
    {
      "cell_type": "code",
      "metadata": {
        "id": "yZaQUuwHhnt8",
        "colab_type": "code",
        "colab": {}
      },
      "source": [
        "\n",
        "def fd_histogram(image, mask=None):\n",
        "    image = cv2.cvtColor(image, cv2.COLOR_BGR2HSV)\n",
        "    hist  = cv2.calcHist([image], [0, 1, 2], None, [bins, bins, bins], [0, 256, 0, 256, 0, 256])\n",
        "    cv2.normalize(hist, hist)\n",
        "    return hist.flatten()"
      ],
      "execution_count": null,
      "outputs": []
    },
    {
      "cell_type": "code",
      "metadata": {
        "id": "U0Voe130hrpp",
        "colab_type": "code",
        "colab": {
          "base_uri": "https://localhost:8080/",
          "height": 54
        },
        "outputId": "8bc129bf-8077-4933-f071-f8f31789d885"
      },
      "source": [
        "train_labels = os.listdir(train_path)\n",
        "\n",
        "train_labels.sort()\n",
        "print(train_labels)\n",
        "\n",
        "global_features = []\n",
        "labels          = []"
      ],
      "execution_count": null,
      "outputs": [
        {
          "output_type": "stream",
          "text": [
            "['acer_campestre', 'acer_ginnala', 'acer_griseum', 'acer_palmatum', 'acer_pensylvanicum', 'acer_platanoides', 'acer_pseudoplatanus', 'acer_rubrum', 'acer_saccharinum', 'acer_saccharum', 'aesculus_flava', 'aesculus_glabra', 'aesculus_hippocastamon', 'amelanchier_arborea', 'amelanchier_canadensis', 'amelanchier_laevis', 'asimina_triloba', 'betula_alleghaniensis', 'betula_jacqemontii', 'betula_nigra', 'betula_populifolia', 'broussonettia_papyrifera', 'carpinus_betulus', 'carpinus_caroliniana', 'carya_glabra', 'carya_tomentosa', 'castanea_dentata', 'catalpa_bignonioides', 'catalpa_speciosa', 'celtis_occidentalis', 'celtis_tenuifolia', 'cercidiphyllum_japonicum', 'cercis_canadensis', 'chionanthus_retusus', 'chionanthus_virginicus', 'cornus_florida', 'cornus_kousa', 'cornus_mas', 'corylus_colurna', 'crataegus_crus-galli', 'crataegus_laevigata', 'crataegus_phaenopyrum', 'crataegus_pruinosa', 'crataegus_viridis', 'diospyros_virginiana', 'eucommia_ulmoides', 'evodia_daniellii', 'fagus_grandifolia', 'ficus_carica', 'ginkgo_biloba', 'halesia_tetraptera', 'ilex_opaca', 'juglans_nigra', 'liquidambar_styraciflua', 'liriodendron_tulipifera', 'maclura_pomifera', 'magnolia_acuminata', 'magnolia_denudata', 'magnolia_grandiflora', 'magnolia_macrophylla', 'magnolia_soulangiana', 'magnolia_stellata', 'magnolia_tripetala', 'magnolia_virginiana', 'malus_angustifolia', 'malus_baccata', 'malus_coronaria', 'malus_floribunda', 'malus_hupehensis', 'malus_pumila', 'morus_alba', 'morus_rubra', 'nyssa_sylvatica', 'ostrya_virginiana', 'oxydendrum_arboreum', 'paulownia_tomentosa', 'pinus_wallichiana', 'platanus_acerifolia', 'platanus_occidentalis', 'populus_deltoides', 'populus_grandidentata', 'prunus_pensylvanica', 'prunus_serotina', 'prunus_serrulata', 'prunus_subhirtella', 'prunus_virginiana', 'prunus_yedoensis', 'pseudolarix_amabilis', 'ptelea_trifoliata', 'pyrus_calleryana', 'quercus_imbricaria', 'quercus_michauxii', 'quercus_montana', 'quercus_muehlenbergii', 'quercus_nigra', 'quercus_shumardii', 'quercus_velutina', 'quercus_virginiana', 'staphylea_trifolia', 'stewartia_pseudocamellia', 'styrax_japonica', 'styrax_obassia', 'syringa_reticulata', 'tilia_americana', 'tilia_cordata', 'tilia_europaea', 'tilia_tomentosa', 'ulmus_americana', 'ulmus_glabra', 'ulmus_parvifolia', 'ulmus_pumila', 'ulmus_rubra', 'zelkova_serrata']\n"
          ],
          "name": "stdout"
        }
      ]
    },
    {
      "cell_type": "code",
      "metadata": {
        "id": "kREI0i56f7YU",
        "colab_type": "code",
        "colab": {
          "base_uri": "https://localhost:8080/",
          "height": 1000
        },
        "outputId": "806ab2fc-30f3-495f-8a5d-9c5a410371f4"
      },
      "source": [
        "for training_name in train_labels:\n",
        "    dir = os.path.join(train_path, training_name)\n",
        "\n",
        "    current_label = training_name\n",
        "\n",
        "    for x in range(1,images_per_class+1):\n",
        "        file = dir + \"/\" + str(x) + \".jpg\"\n",
        "\n",
        "        image = cv2.imread(file)\n",
        "        image = cv2.resize(image, fixed_size)\n",
        "\n",
        "        fv_hu_moments = fd_hu_moments(image)\n",
        "        fv_haralick   = fd_haralick(image)\n",
        "        fv_histogram  = fd_histogram(image)\n",
        "      \n",
        "        global_feature = np.hstack([fv_histogram, fv_haralick, fv_hu_moments])\n",
        "        labels.append(current_label)\n",
        "        global_features.append(global_feature)\n",
        "\n",
        "    print(\"[STATUS] processed folder: {}\".format(current_label))\n",
        "\n",
        "print(\"[STATUS] completed Global Feature Extraction...\")"
      ],
      "execution_count": null,
      "outputs": [
        {
          "output_type": "stream",
          "text": [
            "[STATUS] processed folder: acer_campestre\n",
            "[STATUS] processed folder: acer_ginnala\n",
            "[STATUS] processed folder: acer_griseum\n",
            "[STATUS] processed folder: acer_palmatum\n",
            "[STATUS] processed folder: acer_pensylvanicum\n",
            "[STATUS] processed folder: acer_platanoides\n",
            "[STATUS] processed folder: acer_pseudoplatanus\n",
            "[STATUS] processed folder: acer_rubrum\n",
            "[STATUS] processed folder: acer_saccharinum\n",
            "[STATUS] processed folder: acer_saccharum\n",
            "[STATUS] processed folder: aesculus_flava\n",
            "[STATUS] processed folder: aesculus_glabra\n",
            "[STATUS] processed folder: aesculus_hippocastamon\n",
            "[STATUS] processed folder: amelanchier_arborea\n",
            "[STATUS] processed folder: amelanchier_canadensis\n",
            "[STATUS] processed folder: amelanchier_laevis\n",
            "[STATUS] processed folder: asimina_triloba\n",
            "[STATUS] processed folder: betula_alleghaniensis\n",
            "[STATUS] processed folder: betula_jacqemontii\n",
            "[STATUS] processed folder: betula_nigra\n",
            "[STATUS] processed folder: betula_populifolia\n",
            "[STATUS] processed folder: broussonettia_papyrifera\n",
            "[STATUS] processed folder: carpinus_betulus\n",
            "[STATUS] processed folder: carpinus_caroliniana\n",
            "[STATUS] processed folder: carya_glabra\n",
            "[STATUS] processed folder: carya_tomentosa\n",
            "[STATUS] processed folder: castanea_dentata\n",
            "[STATUS] processed folder: catalpa_bignonioides\n",
            "[STATUS] processed folder: catalpa_speciosa\n",
            "[STATUS] processed folder: celtis_occidentalis\n",
            "[STATUS] processed folder: celtis_tenuifolia\n",
            "[STATUS] processed folder: cercidiphyllum_japonicum\n",
            "[STATUS] processed folder: cercis_canadensis\n",
            "[STATUS] processed folder: chionanthus_retusus\n",
            "[STATUS] processed folder: chionanthus_virginicus\n",
            "[STATUS] processed folder: cornus_florida\n",
            "[STATUS] processed folder: cornus_kousa\n",
            "[STATUS] processed folder: cornus_mas\n",
            "[STATUS] processed folder: corylus_colurna\n",
            "[STATUS] processed folder: crataegus_crus-galli\n",
            "[STATUS] processed folder: crataegus_laevigata\n",
            "[STATUS] processed folder: crataegus_phaenopyrum\n",
            "[STATUS] processed folder: crataegus_pruinosa\n",
            "[STATUS] processed folder: crataegus_viridis\n",
            "[STATUS] processed folder: diospyros_virginiana\n",
            "[STATUS] processed folder: eucommia_ulmoides\n",
            "[STATUS] processed folder: evodia_daniellii\n",
            "[STATUS] processed folder: fagus_grandifolia\n",
            "[STATUS] processed folder: ficus_carica\n",
            "[STATUS] processed folder: ginkgo_biloba\n",
            "[STATUS] processed folder: halesia_tetraptera\n",
            "[STATUS] processed folder: ilex_opaca\n",
            "[STATUS] processed folder: juglans_nigra\n",
            "[STATUS] processed folder: liquidambar_styraciflua\n",
            "[STATUS] processed folder: liriodendron_tulipifera\n",
            "[STATUS] processed folder: maclura_pomifera\n",
            "[STATUS] processed folder: magnolia_acuminata\n",
            "[STATUS] processed folder: magnolia_denudata\n",
            "[STATUS] processed folder: magnolia_grandiflora\n",
            "[STATUS] processed folder: magnolia_macrophylla\n",
            "[STATUS] processed folder: magnolia_soulangiana\n",
            "[STATUS] processed folder: magnolia_stellata\n",
            "[STATUS] processed folder: magnolia_tripetala\n",
            "[STATUS] processed folder: magnolia_virginiana\n",
            "[STATUS] processed folder: malus_angustifolia\n",
            "[STATUS] processed folder: malus_baccata\n",
            "[STATUS] processed folder: malus_coronaria\n",
            "[STATUS] processed folder: malus_floribunda\n",
            "[STATUS] processed folder: malus_hupehensis\n",
            "[STATUS] processed folder: malus_pumila\n",
            "[STATUS] processed folder: morus_alba\n",
            "[STATUS] processed folder: morus_rubra\n",
            "[STATUS] processed folder: nyssa_sylvatica\n",
            "[STATUS] processed folder: ostrya_virginiana\n",
            "[STATUS] processed folder: oxydendrum_arboreum\n",
            "[STATUS] processed folder: paulownia_tomentosa\n",
            "[STATUS] processed folder: pinus_wallichiana\n",
            "[STATUS] processed folder: platanus_acerifolia\n",
            "[STATUS] processed folder: platanus_occidentalis\n",
            "[STATUS] processed folder: populus_deltoides\n",
            "[STATUS] processed folder: populus_grandidentata\n",
            "[STATUS] processed folder: prunus_pensylvanica\n",
            "[STATUS] processed folder: prunus_serotina\n",
            "[STATUS] processed folder: prunus_serrulata\n",
            "[STATUS] processed folder: prunus_subhirtella\n",
            "[STATUS] processed folder: prunus_virginiana\n",
            "[STATUS] processed folder: prunus_yedoensis\n",
            "[STATUS] processed folder: pseudolarix_amabilis\n",
            "[STATUS] processed folder: ptelea_trifoliata\n",
            "[STATUS] processed folder: pyrus_calleryana\n",
            "[STATUS] processed folder: quercus_imbricaria\n",
            "[STATUS] processed folder: quercus_michauxii\n",
            "[STATUS] processed folder: quercus_montana\n",
            "[STATUS] processed folder: quercus_muehlenbergii\n",
            "[STATUS] processed folder: quercus_nigra\n",
            "[STATUS] processed folder: quercus_shumardii\n",
            "[STATUS] processed folder: quercus_velutina\n",
            "[STATUS] processed folder: quercus_virginiana\n",
            "[STATUS] processed folder: staphylea_trifolia\n",
            "[STATUS] processed folder: stewartia_pseudocamellia\n",
            "[STATUS] processed folder: styrax_japonica\n",
            "[STATUS] processed folder: styrax_obassia\n",
            "[STATUS] processed folder: syringa_reticulata\n",
            "[STATUS] processed folder: tilia_americana\n",
            "[STATUS] processed folder: tilia_cordata\n",
            "[STATUS] processed folder: tilia_europaea\n",
            "[STATUS] processed folder: tilia_tomentosa\n",
            "[STATUS] processed folder: ulmus_americana\n",
            "[STATUS] processed folder: ulmus_glabra\n",
            "[STATUS] processed folder: ulmus_parvifolia\n",
            "[STATUS] processed folder: ulmus_pumila\n",
            "[STATUS] processed folder: ulmus_rubra\n",
            "[STATUS] processed folder: zelkova_serrata\n",
            "[STATUS] completed Global Feature Extraction...\n"
          ],
          "name": "stdout"
        }
      ]
    },
    {
      "cell_type": "code",
      "metadata": {
        "id": "E1CPLSWmiBMK",
        "colab_type": "code",
        "colab": {
          "base_uri": "https://localhost:8080/",
          "height": 136
        },
        "outputId": "a531bd78-6118-4879-df08-6d83484df252"
      },
      "source": [
        "print(\"[STATUS] feature vector size {}\".format(np.array(global_features).shape))\n",
        "\n",
        "print(\"[STATUS] training Labels {}\".format(np.array(labels).shape))\n",
        "\n",
        "targetNames = np.unique(labels)\n",
        "le          = LabelEncoder()\n",
        "target      = le.fit_transform(labels)\n",
        "print(\"[STATUS] training labels encoded...\")\n",
        "scaler            = MinMaxScaler(feature_range=(0, 1))\n",
        "rescaled_features = scaler.fit_transform(global_features)\n",
        "print(\"[STATUS] feature vector normalized...\")\n",
        "print(\"[STATUS] target labels: {}\".format(target))\n",
        "print(\"[STATUS] target labels shape: {}\".format(target.shape))\n",
        "\n",
        "h5f_data = h5py.File(h5_data, 'w')\n",
        "h5f_data.create_dataset('dataset_1', data=np.array(rescaled_features))\n",
        "\n",
        "h5f_label = h5py.File(h5_labels, 'w')\n",
        "h5f_label.create_dataset('dataset_1', data=np.array(target))\n",
        "\n",
        "h5f_data.close()\n",
        "h5f_label.close()\n",
        "\n",
        "print(\"[STATUS] end of training..\")"
      ],
      "execution_count": null,
      "outputs": [
        {
          "output_type": "stream",
          "text": [
            "[STATUS] feature vector size (1695, 532)\n",
            "[STATUS] training Labels (1695,)\n",
            "[STATUS] training labels encoded...\n",
            "[STATUS] feature vector normalized...\n",
            "[STATUS] target labels: [  0   0   0 ... 112 112 112]\n",
            "[STATUS] target labels shape: (1695,)\n",
            "[STATUS] end of training..\n"
          ],
          "name": "stdout"
        }
      ]
    },
    {
      "cell_type": "code",
      "metadata": {
        "id": "xWPVsNLbnwvz",
        "colab_type": "code",
        "colab": {
          "base_uri": "https://localhost:8080/",
          "height": 122
        },
        "outputId": "55247df1-7181-41bc-a9d4-082c368517dc"
      },
      "source": [
        "import h5py\n",
        "import numpy as np\n",
        "import os\n",
        "import glob\n",
        "import cv2\n",
        "import warnings\n",
        "from matplotlib import pyplot\n",
        "from sklearn.model_selection import train_test_split, cross_val_score\n",
        "from sklearn.model_selection import KFold, StratifiedKFold\n",
        "from sklearn.metrics import confusion_matrix, accuracy_score, classification_report\n",
        "from sklearn.linear_model import LogisticRegression\n",
        "from sklearn.tree import DecisionTreeClassifier\n",
        "from sklearn.ensemble import RandomForestClassifier\n",
        "from sklearn.neighbors import KNeighborsClassifier\n",
        "from sklearn.discriminant_analysis import LinearDiscriminantAnalysis\n",
        "from sklearn.naive_bayes import GaussianNB\n",
        "from sklearn.svm import SVC\n",
        "from sklearn.externals import joblib\n",
        "\n",
        "warnings.filterwarnings('ignore')\n",
        "\n",
        "fixed_size = tuple((500, 500))\n",
        "num_trees = 100\n",
        "test_size = 0.10\n",
        "seed      = 9\n",
        "train_path = \"/content/drive/My Drive/image-classification-python-master/dataset/train\"\n",
        "test_path  = \"/content/drive/My Drive/image-classification-python-master/dataset/test\"\n",
        "info_path  = \"/content/drive/My Drive/image-classification-python-master/dataset/info\"\n",
        "h5_data    = '/content/drive/My Drive/image-classification-python-master/output/data.h5'\n",
        "h5_labels  = '/content/drive/My Drive/image-classification-python-master/output/labels.h5'\n",
        "scoring    = \"accuracy\"\n",
        "\n",
        "train_labels = os.listdir(train_path)\n",
        "\n",
        "train_labels.sort()\n",
        "\n",
        "if not os.path.exists(test_path):\n",
        "    os.makedirs(test_path)\n",
        "\n",
        "models = []\n",
        "models.append(('LR', LogisticRegression(random_state=seed)))\n",
        "models.append(('LDA', LinearDiscriminantAnalysis()))\n",
        "models.append(('KNN', KNeighborsClassifier()))\n",
        "models.append(('CART', DecisionTreeClassifier(random_state=seed)))\n",
        "models.append(('RF', RandomForestClassifier(n_estimators=num_trees, random_state=seed)))\n",
        "models.append(('NB', GaussianNB()))\n",
        "models.append(('SVM', SVC(random_state=seed)))\n",
        "\n",
        "results = []\n",
        "names   = []\n",
        "\n",
        "h5f_data  = h5py.File(h5_data, 'r')\n",
        "h5f_label = h5py.File(h5_labels, 'r')\n",
        "\n",
        "global_features_string = h5f_data['dataset_1']\n",
        "global_labels_string   = h5f_label['dataset_1']\n",
        "\n",
        "global_features = np.array(global_features_string)\n",
        "global_labels   = np.array(global_labels_string)\n",
        "\n",
        "h5f_data.close()\n",
        "h5f_label.close()\n",
        "\n",
        "print(\"[STATUS] features shape: {}\".format(global_features.shape))\n",
        "print(\"[STATUS] labels shape: {}\".format(global_labels.shape))\n",
        "\n",
        "print(\"[STATUS] training started...\")"
      ],
      "execution_count": null,
      "outputs": [
        {
          "output_type": "stream",
          "text": [
            "/usr/local/lib/python3.6/dist-packages/sklearn/externals/joblib/__init__.py:15: FutureWarning: sklearn.externals.joblib is deprecated in 0.21 and will be removed in 0.23. Please import this functionality directly from joblib, which can be installed with: pip install joblib. If this warning is raised when loading pickled models, you may need to re-serialize those models with scikit-learn 0.21+.\n",
            "  warnings.warn(msg, category=FutureWarning)\n"
          ],
          "name": "stderr"
        },
        {
          "output_type": "stream",
          "text": [
            "[STATUS] features shape: (1695, 532)\n",
            "[STATUS] labels shape: (1695,)\n",
            "[STATUS] training started...\n"
          ],
          "name": "stdout"
        }
      ]
    },
    {
      "cell_type": "code",
      "metadata": {
        "id": "0pjGHCJ2n_0w",
        "colab_type": "code",
        "colab": {
          "base_uri": "https://localhost:8080/",
          "height": 102
        },
        "outputId": "b8d30687-823e-47b2-ea70-6f37007d739e"
      },
      "source": [
        "(trainDataGlobal, testDataGlobal, trainLabelsGlobal, testLabelsGlobal) = train_test_split(np.array(global_features),\n",
        "                                                                                          np.array(global_labels),\n",
        "                                                                                          test_size=test_size,\n",
        "                                                                                          random_state=seed)\n",
        "\n",
        "print(\"[STATUS] splitted train and test data...\")\n",
        "print(\"Train data  : {}\".format(trainDataGlobal.shape))\n",
        "print(\"Test data   : {}\".format(testDataGlobal.shape))\n",
        "print(\"Train labels: {}\".format(trainLabelsGlobal.shape))\n",
        "print(\"Test labels : {}\".format(testLabelsGlobal.shape))"
      ],
      "execution_count": null,
      "outputs": [
        {
          "output_type": "stream",
          "text": [
            "[STATUS] splitted train and test data...\n",
            "Train data  : (1525, 532)\n",
            "Test data   : (170, 532)\n",
            "Train labels: (1525,)\n",
            "Test labels : (170,)\n"
          ],
          "name": "stdout"
        }
      ]
    },
    {
      "cell_type": "code",
      "metadata": {
        "id": "N1lBI_vGoDew",
        "colab_type": "code",
        "colab": {
          "base_uri": "https://localhost:8080/",
          "height": 413
        },
        "outputId": "c2b2e49b-1be3-4ffb-f77e-882b2a7cb134"
      },
      "source": [
        "from sklearn.metrics import classification_report, confusion_matrix\n",
        "for name, model in models:\n",
        "    kfold = KFold(n_splits=10, random_state=seed)\n",
        "    cv_results = cross_val_score(model, trainDataGlobal, trainLabelsGlobal, cv=kfold, scoring=scoring)\n",
        "    results.append(cv_results)\n",
        "    names.append(name)\n",
        "    msg = \"%s: %f (%f)\" % (name, cv_results.mean(), cv_results.std())\n",
        "    print(msg)\n",
        "\n",
        "fig = pyplot.figure()\n",
        "fig.suptitle('Machine Learning algorithm comparison')\n",
        "ax = fig.add_subplot(111)\n",
        "pyplot.boxplot(results)\n",
        "ax.set_xticklabels(names)\n",
        "pyplot.show()\n",
        "\n"
      ],
      "execution_count": null,
      "outputs": [
        {
          "output_type": "stream",
          "text": [
            "LR: 0.390815 (0.038616)\n",
            "LDA: 0.405895 (0.028489)\n",
            "KNN: 0.388837 (0.047284)\n",
            "CART: 0.332430 (0.043409)\n",
            "RF: 0.647149 (0.038209)\n",
            "NB: 0.382951 (0.034379)\n",
            "SVM: 0.232129 (0.034429)\n"
          ],
          "name": "stdout"
        },
        {
          "output_type": "display_data",
          "data": {
            "image/png": "[encoded data removed]",
            "text/plain": [
              "<Figure size 432x288 with 1 Axes>"
            ]
          },
          "metadata": {
            "tags": [],
            "needs_background": "light"
          }
        }
      ]
    },
    {
      "cell_type": "code",
      "metadata": {
        "id": "xpc1yg20k5gL",
        "colab_type": "code",
        "colab": {
          "base_uri": "https://localhost:8080/",
          "height": 1000
        },
        "outputId": "2c6c81d6-50cc-4bf7-cc73-b905912e8303"
      },
      "source": [
        "rfc = RandomForestClassifier(n_estimators=600, max_depth=300, max_features='sqrt')\n",
        "rfc.fit(trainDataGlobal,trainLabelsGlobal)\n",
        "# predictions\n",
        "rfc_predict = rfc.predict(testDataGlobal)\n",
        "print(\"=== Confusion Matrix ===\")\n",
        "print(confusion_matrix(testLabelsGlobal, rfc_predict))\n",
        "print('\\n')\n",
        "print(\"=== Classification Report ===\")\n",
        "print(classification_report(testLabelsGlobal, rfc_predict))\n",
        "print('\\n')"
      ],
      "execution_count": null,
      "outputs": [
        {
          "output_type": "stream",
          "text": [
            "=== Confusion Matrix ===\n",
            "[[1 0 0 ... 0 0 0]\n",
            " [0 0 0 ... 0 0 0]\n",
            " [0 0 1 ... 0 0 0]\n",
            " ...\n",
            " [0 1 0 ... 0 0 0]\n",
            " [0 0 0 ... 0 2 0]\n",
            " [0 0 1 ... 0 0 1]]\n",
            "\n",
            "\n",
            "=== Classification Report ===\n",
            "              precision    recall  f1-score   support\n",
            "\n",
            "           0       1.00      1.00      1.00         1\n",
            "           1       0.00      0.00      0.00         0\n",
            "           2       0.33      1.00      0.50         1\n",
            "           3       1.00      1.00      1.00         1\n",
            "           4       0.50      0.50      0.50         2\n",
            "           5       1.00      0.50      0.67         2\n",
            "           6       1.00      1.00      1.00         1\n",
            "           7       0.00      0.00      0.00         2\n",
            "           8       1.00      0.50      0.67         2\n",
            "           9       0.75      1.00      0.86         3\n",
            "          10       0.00      0.00      0.00         1\n",
            "          11       0.50      1.00      0.67         1\n",
            "          12       1.00      1.00      1.00         2\n",
            "          14       1.00      1.00      1.00         1\n",
            "          15       1.00      1.00      1.00         4\n",
            "          16       1.00      1.00      1.00         1\n",
            "          17       0.33      0.33      0.33         3\n",
            "          18       1.00      0.50      0.67         2\n",
            "          19       0.00      0.00      0.00         0\n",
            "          20       1.00      1.00      1.00         1\n",
            "          21       0.00      0.00      0.00         0\n",
            "          22       1.00      1.00      1.00         1\n",
            "          23       1.00      1.00      1.00         2\n",
            "          24       1.00      1.00      1.00         1\n",
            "          25       0.00      0.00      0.00         0\n",
            "          26       0.50      1.00      0.67         1\n",
            "          28       1.00      0.50      0.67         2\n",
            "          29       0.33      0.50      0.40         2\n",
            "          30       1.00      1.00      1.00         1\n",
            "          31       0.00      0.00      0.00         1\n",
            "          32       1.00      0.50      0.67         2\n",
            "          34       0.67      1.00      0.80         2\n",
            "          35       1.00      1.00      1.00         3\n",
            "          36       1.00      1.00      1.00         2\n",
            "          37       0.50      1.00      0.67         1\n",
            "          38       0.50      0.50      0.50         2\n",
            "          39       0.00      0.00      0.00         1\n",
            "          40       1.00      1.00      1.00         1\n",
            "          41       0.00      0.00      0.00         1\n",
            "          42       0.50      1.00      0.67         1\n",
            "          44       1.00      1.00      1.00         2\n",
            "          45       1.00      1.00      1.00         2\n",
            "          46       0.67      1.00      0.80         2\n",
            "          47       1.00      0.50      0.67         2\n",
            "          48       0.50      0.25      0.33         4\n",
            "          49       0.50      1.00      0.67         2\n",
            "          50       1.00      1.00      1.00         3\n",
            "          51       1.00      0.67      0.80         3\n",
            "          52       1.00      1.00      1.00         1\n",
            "          53       1.00      1.00      1.00         1\n",
            "          54       0.67      1.00      0.80         2\n",
            "          55       0.50      0.50      0.50         2\n",
            "          56       0.50      0.50      0.50         2\n",
            "          57       1.00      1.00      1.00         3\n",
            "          58       1.00      1.00      1.00         1\n",
            "          59       1.00      1.00      1.00         2\n",
            "          60       0.50      0.50      0.50         2\n",
            "          61       0.00      0.00      0.00         1\n",
            "          62       1.00      1.00      1.00         1\n",
            "          63       1.00      1.00      1.00         1\n",
            "          64       1.00      1.00      1.00         1\n",
            "          65       0.50      0.33      0.40         3\n",
            "          66       0.00      0.00      0.00         1\n",
            "          67       0.00      0.00      0.00         0\n",
            "          68       0.33      1.00      0.50         1\n",
            "          69       1.00      1.00      1.00         1\n",
            "          70       0.67      1.00      0.80         2\n",
            "          71       1.00      1.00      1.00         2\n",
            "          72       0.00      0.00      0.00         1\n",
            "          73       1.00      1.00      1.00         1\n",
            "          74       0.50      1.00      0.67         1\n",
            "          75       0.00      0.00      0.00         0\n",
            "          76       1.00      1.00      1.00         1\n",
            "          77       0.67      1.00      0.80         2\n",
            "          78       1.00      0.50      0.67         2\n",
            "          79       0.50      1.00      0.67         1\n",
            "          80       0.00      0.00      0.00         2\n",
            "          81       1.00      1.00      1.00         2\n",
            "          82       0.50      0.50      0.50         2\n",
            "          83       1.00      0.50      0.67         2\n",
            "          84       0.00      0.00      0.00         2\n",
            "          85       0.33      0.50      0.40         2\n",
            "          86       1.00      1.00      1.00         1\n",
            "          87       1.00      1.00      1.00         1\n",
            "          89       1.00      0.50      0.67         2\n",
            "          90       0.00      0.00      0.00         2\n",
            "          91       1.00      1.00      1.00         1\n",
            "          92       1.00      1.00      1.00         1\n",
            "          93       0.67      1.00      0.80         2\n",
            "          94       0.00      0.00      0.00         2\n",
            "          95       1.00      0.80      0.89         5\n",
            "          97       0.00      0.00      0.00         0\n",
            "          98       1.00      1.00      1.00         1\n",
            "          99       0.00      0.00      0.00         0\n",
            "         101       1.00      0.67      0.80         3\n",
            "         102       1.00      0.50      0.67         2\n",
            "         103       0.00      0.00      0.00         3\n",
            "         104       1.00      0.50      0.67         2\n",
            "         105       0.00      0.00      0.00         1\n",
            "         106       0.50      0.50      0.50         2\n",
            "         107       0.00      0.00      0.00         0\n",
            "         108       0.67      1.00      0.80         2\n",
            "         109       0.00      0.00      0.00         2\n",
            "         110       0.00      0.00      0.00         1\n",
            "         111       1.00      1.00      1.00         2\n",
            "         112       1.00      0.33      0.50         3\n",
            "\n",
            "    accuracy                           0.67       170\n",
            "   macro avg       0.63      0.64      0.61       170\n",
            "weighted avg       0.71      0.67      0.66       170\n",
            "\n",
            "\n",
            "\n"
          ],
          "name": "stdout"
        }
      ]
    },
    {
      "cell_type": "code",
      "metadata": {
        "id": "YkrfFg4xoPVT",
        "colab_type": "code",
        "colab": {}
      },
      "source": [
        "import matplotlib.pyplot as plt\n",
        "import cv2\n",
        "def classify():\n",
        "  clf  = RandomForestClassifier(n_estimators=num_trees, random_state=seed)\n",
        "  test_path  = \"/content/drive/My Drive/image-classification-python-master/dataset/test\"\n",
        "  clf.fit(trainDataGlobal, trainLabelsGlobal)\n",
        "  clf_pred = clf.predict(trainDataGlobal)\n",
        "  for file in glob.glob(test_path + \"/*.jpg\"):\n",
        "    image = cv2.imread(file)\n",
        "    info_path  = \"/content/drive/My Drive/image-classification-python-master/dataset/info\"\n",
        "    image = cv2.resize(image, fixed_size)\n",
        "  \n",
        "    fv_hu_moments = fd_hu_moments(image)\n",
        "    fv_haralick   = fd_haralick(image)\n",
        "    fv_histogram  = fd_histogram(image)\n",
        "    global_feature = np.hstack([fv_histogram, fv_haralick, fv_hu_moments])\n",
        "    \n",
        "    scaler            = MinMaxScaler(feature_range=(0, 1))\n",
        "    rescaled_features = scaler.fit_transform(global_features)\n",
        "    prediction = clf.predict(global_feature.reshape(1,-1))[0]\n",
        "    main=train_labels[prediction]\n",
        "    \n",
        "    #cv2.putText(image, train_labels[prediction], (20,30), cv2.FONT_HERSHEY_SIMPLEX, 1.0, (0,0,0), 3)\n",
        "    #info_path=info_path+\"/\"+train_labels[prediction]+\".txt\"\n",
        "    #plt.imshow(cv2.cvtColor(image, cv2.COLOR_BGR2RGB))\n",
        "    #f1=open(info_path)\n",
        "    #f=f1.read()\n",
        "    #print(f)\n",
        "    #plt.show()\n",
        "    return(main)\n",
        "    "
      ],
      "execution_count": null,
      "outputs": []
    },
    {
      "cell_type": "code",
      "metadata": {
        "id": "YRJwao5CNOJK",
        "colab_type": "code",
        "colab": {}
      },
      "source": [
        "def info(name):\n",
        "  info_path  = \"/content/drive/My Drive/image-classification-python-master/dataset/info\"\n",
        "  info_path=info_path+\"/\"+name+\".txt\"\n",
        "  f1=open(info_path)\n",
        "  f=f1.read()\n",
        "  return(f)"
      ],
      "execution_count": null,
      "outputs": []
    },
    {
      "cell_type": "code",
      "metadata": {
        "id": "hrfUHNTlLxzc",
        "colab_type": "code",
        "colab": {}
      },
      "source": [
        "%mkdir templates -p"
      ],
      "execution_count": null,
      "outputs": []
    },
    {
      "cell_type": "code",
      "metadata": {
        "id": "Agrmys9AL0Tx",
        "colab_type": "code",
        "colab": {
          "base_uri": "https://localhost:8080/",
          "height": 34
        },
        "outputId": "d48faaf5-8164-46a0-b74a-99c43e2bdb21"
      },
      "source": [
        "%%writefile templates/index.html\n",
        "<body>\n",
        "<div id=\"cont\">\n",
        "  <h1>Medleaf Detection</h1>\n",
        "  </div> \n",
        "<form method=\"POST\" action=\"upload_google\"  enctype=\"multipart/form-data\">\n",
        "  <input type=\"file\" name=\"image\" id=\"image\" required=\"required\" multiple=\"multiple\">\n",
        "  <p>Click in this area to Select Image.</p>\n",
        "  <button type=\"submit\">Upload Image</button>\n",
        " \n",
        "</form>\n",
        "</body>\n",
        "\n",
        "<link rel=\"stylesheet\"\n",
        "      href=\"{{url_for('.static', filename='styles1.css')}}\">"
      ],
      "execution_count": null,
      "outputs": [
        {
          "output_type": "stream",
          "text": [
            "Writing templates/index.html\n"
          ],
          "name": "stdout"
        }
      ]
    },
    {
      "cell_type": "code",
      "metadata": {
        "id": "LcI1dPL2L3PR",
        "colab_type": "code",
        "colab": {}
      },
      "source": [
        "%mkdir static -p"
      ],
      "execution_count": null,
      "outputs": []
    },
    {
      "cell_type": "code",
      "metadata": {
        "id": "Q41x3CBi1THf",
        "colab_type": "code",
        "colab": {
          "base_uri": "https://localhost:8080/",
          "height": 34
        },
        "outputId": "0efe8ccf-134a-4266-fe62-28f40423a3f7"
      },
      "source": [
        "%%writefile static/styles1.css\n",
        "body{\n",
        "  background: rgba(0,0,0,0.9);\n",
        "}\n",
        "form{\n",
        "  position: absolute;\n",
        "  top: 50%;\n",
        "  left: 50%;\n",
        "  margin-left: -250px;\n",
        "  width: 500px;\n",
        "  height: 200px;\n",
        "  \n",
        "}\n",
        "\n",
        "h1 {\n",
        " font-size: 74px;\n",
        " line-height: 140px;\n",
        " font-family: Lucida, sans-serif;\n",
        " font-weight: bold;\n",
        " text-align: center;\n",
        " color:#ffffff;\n",
        "}\n",
        " \n",
        "#cont {\n",
        " /*stitching*/\n",
        " outline: 1px dashed #98abb9;\n",
        " outline-offset: -5px;\n",
        " \n",
        " background-color: #556068;\n",
        " height: 150px;\n",
        " width: 800px;\n",
        " margin: 70px auto;\n",
        "  \n",
        " /*shadow*/\n",
        " -webkit-box-shadow: 2px 2px 2px #000;\n",
        " -moz-box-shadow: 2px 2px 2px #000;\n",
        " box-shadow: 2px 2px 2px #000;\n",
        "}\n",
        "form p{\n",
        "  width: 100%;\n",
        "  height: 100%;\n",
        "  text-align: center;\n",
        "  line-height: 170px;\n",
        "  color: #ffffff;\n",
        "  font-family: Arial;\n",
        "  border: 4px dashed #fff;\n",
        "}\n",
        "form input{\n",
        "  position: absolute;\n",
        "  margin: 0;\n",
        "  padding: 0;\n",
        "  width: 100%;\n",
        "  height: 100%;\n",
        "  outline: none;\n",
        "  opacity: 0;\n",
        "  \n",
        "}\n",
        "form button{\n",
        "  margin: 0;\n",
        "  color: #fff;\n",
        "  background: #16a085;\n",
        "  border: none;\n",
        "  width: 508px;\n",
        "  height: 35px;\n",
        "  margin-top: 20px;\n",
        "  margin-left: -4px;\n",
        "  border-radius: 4px;\n",
        "  border-bottom: 4px solid #117A60;\n",
        "  transition: all .2s ease;\n",
        "  outline: none;\n",
        "}\n",
        "form button:hover{\n",
        "  background: #149174;\n",
        "\tcolor: #0C5645;\n",
        "}\n",
        "form button:active{\n",
        "  border:0;\n",
        "}\n"
      ],
      "execution_count": null,
      "outputs": [
        {
          "output_type": "stream",
          "text": [
            "Writing static/styles1.css\n"
          ],
          "name": "stdout"
        }
      ]
    },
    {
      "cell_type": "code",
      "metadata": {
        "id": "c71GjHhUL7S6",
        "colab_type": "code",
        "colab": {
          "base_uri": "https://localhost:8080/",
          "height": 34
        },
        "outputId": "e95ab4da-a20c-4fb3-d349-b362e9a69661"
      },
      "source": [
        "%%writefile static/styles.css\n",
        "body{\n",
        "  background: rgba(0,0,0,0.9);\n",
        "}\n",
        "h1 {\n",
        " font-size: 74px;\n",
        " line-height: 140px;\n",
        " font-family: Lucida, sans-serif;\n",
        " font-weight: bold;\n",
        " text-align: center;\n",
        " color:#ffffff;\n",
        "}\n",
        " \n",
        "#cont {\n",
        " /*stitching*/\n",
        " outline: 1px dashed #98abb9;\n",
        " outline-offset: -5px;\n",
        " \n",
        " background-color: #556068;\n",
        " height: 150px;\n",
        " width: 800px;\n",
        " margin: 70px auto;\n",
        "  \n",
        " /*shadow*/\n",
        " -webkit-box-shadow: 2px 2px 2px #000;\n",
        " -moz-box-shadow: 2px 2px 2px #000;\n",
        " box-shadow: 2px 2px 2px #000;\n",
        "}\n",
        "p{\n",
        "  width: 60%;\n",
        "  height: auto;\n",
        "  padding-right:200px;\n",
        "  text-align: center;\n",
        "  line-height: 50px;\n",
        "  color: #ffffff;\n",
        "  font-family: Arial;\n",
        "  border: 2px dashed #fff;\n",
        "  margin-left: 150px;\n",
        "}\n",
        "pre{\n",
        "  width: 60%;\n",
        "  height: auto;\n",
        "  padding-left:50px;\n",
        "  padding-top:20px;\n",
        "  padding-bottom:20px;\n",
        "  padding-right:200px;\n",
        "  line-height: 15px;\n",
        "  color: #ffffff;\n",
        "  font-family: Arial;\n",
        "  border: 2px dashed #fff;\n",
        "  margin-left: 150px;\n",
        "}\n"
      ],
      "execution_count": null,
      "outputs": [
        {
          "output_type": "stream",
          "text": [
            "Writing static/styles.css\n"
          ],
          "name": "stdout"
        }
      ]
    },
    {
      "cell_type": "code",
      "metadata": {
        "id": "UHYkACcDL9_O",
        "colab_type": "code",
        "colab": {
          "base_uri": "https://localhost:8080/",
          "height": 34
        },
        "outputId": "401b5187-d510-4573-e8c2-78d0c97f809b"
      },
      "source": [
        "%%writefile templates/upload.html\n",
        "<body>\n",
        "  <div id=\"cont\">\n",
        "  <h1>Medleaf Detection</h1>\n",
        "  </div> \n",
        "  <p> The name of the species is <strong>{{name}}</strong></p>\n",
        "  <pre>Description is</br>\n",
        "      {{des}}</pre>\n",
        "  \n",
        "</body>\n",
        "\n",
        "<link rel=\"stylesheet\"\n",
        "      href=\"{{url_for('.static', filename='styles.css')}}\">"
      ],
      "execution_count": null,
      "outputs": [
        {
          "output_type": "stream",
          "text": [
            "Writing templates/upload.html\n"
          ],
          "name": "stdout"
        }
      ]
    },
    {
      "cell_type": "code",
      "metadata": {
        "id": "YXvPXLhCMC5N",
        "colab_type": "code",
        "colab": {
          "base_uri": "https://localhost:8080/",
          "height": 272
        },
        "outputId": "e6252d4a-2ce4-4d1b-a4bc-4e90afc5a69e"
      },
      "source": [
        "\n",
        "from flask import Flask\n",
        "from flask_ngrok import run_with_ngrok\n",
        "from flask import Flask,render_template,url_for,request,redirect\n",
        "import os\n",
        "import cv2\n",
        "app = Flask(__name__)\n",
        "run_with_ngrok(app)  # Start ngrok when app is run\n",
        "\n",
        "@app.route('/')\n",
        "def index():\n",
        "\treturn render_template('index.html')\n",
        " \n",
        "app.config[\"IMAGE_UPLOADS\"]=\"/content/drive/My Drive/image-classification-python-master/dataset/test\"\n",
        " \n",
        "@app.route('/upload_google', methods=['GET','POST'])\n",
        "def upload_google():\n",
        "    if request.method =='POST':\n",
        "      if request.files:\n",
        "        name=\"\"\n",
        "        image = request.files['image']\n",
        "        image.save(os.path.join(app.config[\"IMAGE_UPLOADS\"], image.filename))\n",
        "        print(\"image saved\")\n",
        "        result=classify()\n",
        "        information=info(result)\n",
        "        if(len(result)>16):\n",
        "          name=\"NOT AVAILABLE IN THE DATASET\"\n",
        "          des=\"NOT AVAILABLE\"\n",
        "        else:\n",
        "          name=result\n",
        "          des=information  \n",
        "        \n",
        "        return render_template('upload.html', name=name,des=des) \n",
        "\n",
        "if __name__ == '__main__':\n",
        "    app.run()"
      ],
      "execution_count": null,
      "outputs": [
        {
          "output_type": "stream",
          "text": [
            " * Running on http://127.0.0.1:5000/ (Press CTRL+C to quit)\n"
          ],
          "name": "stderr"
        },
        {
          "output_type": "stream",
          "text": [
            " * Running on http://35cf860472f2.ngrok.io\n",
            " * Traffic stats available on http://127.0.0.1:4040\n"
          ],
          "name": "stdout"
        },
        {
          "output_type": "stream",
          "text": [
            "127.0.0.1 - - [30/May/2020 12:07:08] \"\u001b[37mGET / HTTP/1.1\u001b[0m\" 200 -\n",
            "127.0.0.1 - - [30/May/2020 12:07:09] \"\u001b[37mGET /static/styles1.css HTTP/1.1\u001b[0m\" 200 -\n",
            "127.0.0.1 - - [30/May/2020 12:07:09] \"\u001b[33mGET /favicon.ico HTTP/1.1\u001b[0m\" 404 -\n"
          ],
          "name": "stderr"
        },
        {
          "output_type": "stream",
          "text": [
            "image saved\n"
          ],
          "name": "stdout"
        },
        {
          "output_type": "stream",
          "text": [
            "127.0.0.1 - - [30/May/2020 12:25:06] \"\u001b[37mPOST /upload_google HTTP/1.1\u001b[0m\" 200 -\n",
            "127.0.0.1 - - [30/May/2020 12:25:07] \"\u001b[37mGET /static/styles.css HTTP/1.1\u001b[0m\" 200 -\n"
          ],
          "name": "stderr"
        },
        {
          "output_type": "stream",
          "text": [
            "image saved\n"
          ],
          "name": "stdout"
        },
        {
          "output_type": "stream",
          "text": [
            "127.0.0.1 - - [30/May/2020 12:26:38] \"\u001b[37mPOST /upload_google HTTP/1.1\u001b[0m\" 200 -\n"
          ],
          "name": "stderr"
        },
        {
          "output_type": "stream",
          "text": [
            "image saved\n"
          ],
          "name": "stdout"
        },
        {
          "output_type": "stream",
          "text": [
            "127.0.0.1 - - [30/May/2020 12:27:00] \"\u001b[37mPOST /upload_google HTTP/1.1\u001b[0m\" 200 -\n"
          ],
          "name": "stderr"
        },
        {
          "output_type": "stream",
          "text": [
            "image saved\n"
          ],
          "name": "stdout"
        },
        {
          "output_type": "stream",
          "text": [
            "127.0.0.1 - - [30/May/2020 12:28:15] \"\u001b[37mPOST /upload_google HTTP/1.1\u001b[0m\" 200 -\n"
          ],
          "name": "stderr"
        }
      ]
    }
  ]
}